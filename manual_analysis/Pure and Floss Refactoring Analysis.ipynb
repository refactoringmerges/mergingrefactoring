{
 "cells": [
  {
   "cell_type": "code",
   "execution_count": 1,
   "id": "65e7efbb",
   "metadata": {},
   "outputs": [],
   "source": [
    "import pandas as pd\n",
    "import numpy as np"
   ]
  },
  {
   "cell_type": "code",
   "execution_count": 2,
   "id": "16c0f9ac",
   "metadata": {},
   "outputs": [],
   "source": [
    "import matplotlib.pyplot as plt"
   ]
  },
  {
   "cell_type": "code",
   "execution_count": 3,
   "id": "816b9c19",
   "metadata": {},
   "outputs": [],
   "source": [
    "data_git = pd.read_csv(r\"E:\\data\\merge_commit.csv\", sep=\",\", header=None)\n",
    "data_git.columns = [\"id\", \"commit_hash\", \"is_conflicting\", \"p1\", \"p2\", \"project_id\", \"is_done\", \"author_name\", \n",
    "                 \"author_email\", \"timestamp\"]"
   ]
  },
  {
   "cell_type": "code",
   "execution_count": 4,
   "id": "479bbb87",
   "metadata": {},
   "outputs": [],
   "source": [
    "refactoring_region = pd.read_csv(r\"E:\\data\\refactoring_region.csv\", sep=\",\", header=None)\n",
    "refactoring_region.columns = [\"id\", \"start_line\", \"length\", \"type\", \"path\", \"refactoring_id\", \"refactoring_commit_id\", \n",
    "                              \"commit_hash\", \"project_id\"]"
   ]
  },
  {
   "cell_type": "code",
   "execution_count": 5,
   "id": "1730d65a",
   "metadata": {},
   "outputs": [],
   "source": [
    "conflicting_region_history = pd.read_csv(r\"E:\\data\\conflicting_region_history.csv\", sep=\",\", header=None)\n",
    "conflicting_region_history.columns = [\"id\", \"commit_hash\", \"merge_parent\", \"old_start_line\", \"old_length\", \"old_path\", \n",
    "                                      \"new_start_line\", \"new_length\", \"new_path\", \"conflicting_region_id\", \n",
    "                                      \"conflicting_java_file_id\", \"merge_commit_id\", \"project_id\", \"author_name\", \n",
    "                                      \"author_email\", \"timestamp\"]"
   ]
  },
  {
   "cell_type": "code",
   "execution_count": 6,
   "id": "ebaa544d",
   "metadata": {},
   "outputs": [],
   "source": [
    "conflicting_region_history.drop(columns = [\"old_start_line\", \"old_length\", \"old_path\", \"new_start_line\", \"new_length\", \n",
    "                                           \"new_path\", \"author_name\", \"author_email\", \"conflicting_region_id\", \n",
    "                                           \"conflicting_java_file_id\", \"conflicting_region_id\"], inplace=True)"
   ]
  },
  {
   "cell_type": "code",
   "execution_count": 7,
   "id": "920f9618",
   "metadata": {},
   "outputs": [],
   "source": [
    "evolutionary_commits_with_refactoring = refactoring_region.merge(conflicting_region_history, on=\"commit_hash\", how=\"inner\")\n",
    "evolutionary_commits_with_refactoring.drop_duplicates(subset=\"id_y\", keep=\"first\", inplace=True)"
   ]
  },
  {
   "cell_type": "code",
   "execution_count": null,
   "id": "28767c02",
   "metadata": {},
   "outputs": [],
   "source": [
    "jfstmerge_conflicts = pd.read_csv(r\"E:\\data\\conflicts_jfstmerge.csv\", sep=\";\")"
   ]
  },
  {
   "cell_type": "code",
   "execution_count": null,
   "id": "ccedef1b",
   "metadata": {},
   "outputs": [],
   "source": []
  },
  {
   "cell_type": "code",
   "execution_count": 9,
   "id": "3c6c8327",
   "metadata": {},
   "outputs": [],
   "source": [
    "conflicting_region = pd.read_csv(r\"E:\\data\\conflicting_region.csv\", sep=\",\", header=None)\n",
    "conflicting_region.columns = ['id','p1_start','p1_length','File','p2_start','p2_length','p2_path',\n",
    "                                   'conflicting_java_file_id','merge_commit_id','project_id']"
   ]
  },
  {
   "cell_type": "code",
   "execution_count": null,
   "id": "97f3e308",
   "metadata": {},
   "outputs": [],
   "source": []
  },
  {
   "cell_type": "code",
   "execution_count": 10,
   "id": "9fecc7da",
   "metadata": {},
   "outputs": [],
   "source": [
    "conflicting_java_file = pd.read_csv(r\"E:\\data\\conflicting_java_file.csv\", sep=\",\", header=None)\n",
    "conflicting_java_file.columns = [\"id\", \"path\", \"type\", \"project_id\", \"is_done\"]"
   ]
  },
  {
   "cell_type": "code",
   "execution_count": 11,
   "id": "4444d830",
   "metadata": {},
   "outputs": [],
   "source": [
    "conflicting_region_history = pd.read_csv(r\"E:\\data\\conflicting_region_history.csv\", sep=\",\", header=None)\n",
    "conflicting_region_history.columns = [\"id\", \"commit_hash\", \"merge_parent\", \"old_start_line\", \"old_length\", \"old_path\", \n",
    "                                      \"new_start_line\", \"new_length\", \"new_path\", \"conflicting_region_id\", \n",
    "                                      \"conflicting_java_file_id\", \"merge_commit_id\", \"project_id\", \"author_name\", \n",
    "                                      \"author_email\", \"timestamp\"]"
   ]
  },
  {
   "cell_type": "code",
   "execution_count": 12,
   "id": "12fc194c",
   "metadata": {},
   "outputs": [],
   "source": [
    "results_git = pd.read_csv(r\"E:\\data\\manual_analysis_results.csv\", sep=\";\")"
   ]
  },
  {
   "cell_type": "code",
   "execution_count": null,
   "id": "ed602ffc",
   "metadata": {},
   "outputs": [],
   "source": []
  },
  {
   "cell_type": "code",
   "execution_count": null,
   "id": "4cf1793e",
   "metadata": {},
   "outputs": [],
   "source": []
  },
  {
   "cell_type": "code",
   "execution_count": 13,
   "id": "bbb1840a",
   "metadata": {},
   "outputs": [],
   "source": [
    "conflicting_regions_git = conflicting_region.merge(results_git, on=\"merge_commit_id\", how=\"inner\")"
   ]
  },
  {
   "cell_type": "code",
   "execution_count": 14,
   "id": "5df59b00",
   "metadata": {},
   "outputs": [],
   "source": [
    "conflicting_regions_git.drop_duplicates(subset=\"id\", inplace=True)"
   ]
  },
  {
   "cell_type": "code",
   "execution_count": 15,
   "id": "df99a9b6",
   "metadata": {},
   "outputs": [
    {
     "data": {
      "text/plain": [
       "77"
      ]
     },
     "execution_count": 15,
     "metadata": {},
     "output_type": "execute_result"
    }
   ],
   "source": [
    "conflicting_regions_git[\"merge_commit_id\"].nunique()"
   ]
  },
  {
   "cell_type": "code",
   "execution_count": null,
   "id": "adfad725",
   "metadata": {},
   "outputs": [],
   "source": []
  },
  {
   "cell_type": "code",
   "execution_count": 16,
   "id": "0d0f0bc7",
   "metadata": {},
   "outputs": [],
   "source": [
    "conflicting_regions_size_pure_git = conflicting_regions_git[conflicting_regions_git[\"floss\"] == \"no\"][[\"p1_start\", \"p1_length\",\"p2_start\", \"p2_length\", \"merge_commit_id\"]]"
   ]
  },
  {
   "cell_type": "code",
   "execution_count": 17,
   "id": "5bf151aa",
   "metadata": {},
   "outputs": [],
   "source": [
    "size = conflicting_regions_size_pure_git[\"p1_length\"] + conflicting_regions_size_pure_git[\"p2_length\"] "
   ]
  },
  {
   "cell_type": "code",
   "execution_count": 18,
   "id": "aa35b793",
   "metadata": {},
   "outputs": [],
   "source": [
    "conflicting_regions_size_pure_git[\"size\"] = size"
   ]
  },
  {
   "cell_type": "code",
   "execution_count": 19,
   "id": "5305ee28",
   "metadata": {},
   "outputs": [
    {
     "data": {
      "text/plain": [
       "count    2874.000000\n",
       "mean       47.813848\n",
       "std       145.587435\n",
       "min         0.000000\n",
       "25%         3.000000\n",
       "50%        12.000000\n",
       "75%        19.000000\n",
       "max      2417.000000\n",
       "Name: size, dtype: float64"
      ]
     },
     "execution_count": 19,
     "metadata": {},
     "output_type": "execute_result"
    }
   ],
   "source": [
    "conflicting_regions_size_pure_git[\"size\"].describe()"
   ]
  },
  {
   "cell_type": "code",
   "execution_count": 20,
   "id": "d2c5795a",
   "metadata": {},
   "outputs": [],
   "source": [
    "box_plot_pure_size = conflicting_regions_size_pure_git.groupby(\"merge_commit_id\").agg({\"size\": np.sum})"
   ]
  },
  {
   "cell_type": "code",
   "execution_count": 21,
   "id": "58bb644c",
   "metadata": {},
   "outputs": [],
   "source": [
    "box_plot_pure_size.reset_index(inplace=True)"
   ]
  },
  {
   "cell_type": "code",
   "execution_count": 22,
   "id": "9e67f641",
   "metadata": {},
   "outputs": [],
   "source": [
    "box_plot_pure_count = conflicting_regions_size_pure_git.groupby(\"merge_commit_id\").agg({\"size\": np.size})"
   ]
  },
  {
   "cell_type": "code",
   "execution_count": 23,
   "id": "c22c1bc1",
   "metadata": {},
   "outputs": [],
   "source": [
    "box_plot_pure_count.reset_index(inplace=True)"
   ]
  },
  {
   "cell_type": "code",
   "execution_count": 24,
   "id": "222750c5",
   "metadata": {},
   "outputs": [
    {
     "data": {
      "text/html": [
       "<div>\n",
       "<style scoped>\n",
       "    .dataframe tbody tr th:only-of-type {\n",
       "        vertical-align: middle;\n",
       "    }\n",
       "\n",
       "    .dataframe tbody tr th {\n",
       "        vertical-align: top;\n",
       "    }\n",
       "\n",
       "    .dataframe thead th {\n",
       "        text-align: right;\n",
       "    }\n",
       "</style>\n",
       "<table border=\"1\" class=\"dataframe\">\n",
       "  <thead>\n",
       "    <tr style=\"text-align: right;\">\n",
       "      <th></th>\n",
       "      <th>merge_commit_id</th>\n",
       "      <th>size</th>\n",
       "    </tr>\n",
       "  </thead>\n",
       "  <tbody>\n",
       "    <tr>\n",
       "      <th>0</th>\n",
       "      <td>314</td>\n",
       "      <td>6</td>\n",
       "    </tr>\n",
       "    <tr>\n",
       "      <th>1</th>\n",
       "      <td>321</td>\n",
       "      <td>17</td>\n",
       "    </tr>\n",
       "    <tr>\n",
       "      <th>2</th>\n",
       "      <td>18142</td>\n",
       "      <td>3</td>\n",
       "    </tr>\n",
       "    <tr>\n",
       "      <th>3</th>\n",
       "      <td>26330</td>\n",
       "      <td>27</td>\n",
       "    </tr>\n",
       "    <tr>\n",
       "      <th>4</th>\n",
       "      <td>27141</td>\n",
       "      <td>3</td>\n",
       "    </tr>\n",
       "  </tbody>\n",
       "</table>\n",
       "</div>"
      ],
      "text/plain": [
       "   merge_commit_id  size\n",
       "0              314     6\n",
       "1              321    17\n",
       "2            18142     3\n",
       "3            26330    27\n",
       "4            27141     3"
      ]
     },
     "execution_count": 24,
     "metadata": {},
     "output_type": "execute_result"
    }
   ],
   "source": [
    "box_plot_pure_count.head()"
   ]
  },
  {
   "cell_type": "code",
   "execution_count": 25,
   "id": "88037a79",
   "metadata": {},
   "outputs": [],
   "source": [
    "descriptive_cr_pure = box_plot_pure_size.merge(box_plot_pure_count, on=\"merge_commit_id\", how=\"inner\")"
   ]
  },
  {
   "cell_type": "code",
   "execution_count": null,
   "id": "abd2a40d",
   "metadata": {},
   "outputs": [],
   "source": [
    "descriptive_cr_pure.head()"
   ]
  },
  {
   "cell_type": "code",
   "execution_count": 27,
   "id": "bf4557af",
   "metadata": {},
   "outputs": [],
   "source": [
    "descriptive_cr_pure.rename(columns={\"size_x\":\"size\", \"size_y\":\"count\"}, inplace=True)"
   ]
  },
  {
   "cell_type": "code",
   "execution_count": null,
   "id": "1ed481e4",
   "metadata": {},
   "outputs": [],
   "source": [
    "descriptive_cr_pure.head()"
   ]
  },
  {
   "cell_type": "code",
   "execution_count": 29,
   "id": "dbfc7b06",
   "metadata": {},
   "outputs": [],
   "source": [
    "conflicting_time = pd.read_csv(r\"E:\\data\\conflicting_time_data_2.csv\", sep=\",\")"
   ]
  },
  {
   "cell_type": "code",
   "execution_count": null,
   "id": "7bc102a2",
   "metadata": {},
   "outputs": [],
   "source": []
  },
  {
   "cell_type": "code",
   "execution_count": null,
   "id": "853f6018",
   "metadata": {},
   "outputs": [],
   "source": [
    "result = pd.DataFrame(columns = ['commit_hash', \"delta_time\"])\n",
    "for i, infos in conflicting_time.iterrows():\n",
    "    time_p1 = infos[\"time_to_commit\"] - infos[\"p1\"]\n",
    "    time_p2 = infos[\"time_to_commit\"] - infos[\"p2\"]\n",
    "    if time_p1 < time_p2 :\n",
    "         result=result.append({'commit_hash' : infos[\"commit_hash\"] , 'delta_time' : time_p1} , ignore_index=True)\n",
    "    else:     \n",
    "         result=result.append({'commit_hash' : infos[\"commit_hash\"] , 'delta_time' : time_p2} , ignore_index=True)"
   ]
  },
  {
   "cell_type": "code",
   "execution_count": 31,
   "id": "19786367",
   "metadata": {},
   "outputs": [],
   "source": [
    "time_to_merge = result"
   ]
  },
  {
   "cell_type": "code",
   "execution_count": 32,
   "id": "48fdddbb",
   "metadata": {},
   "outputs": [],
   "source": [
    "git_hash = data_git[[\"id\", \"commit_hash\"]]"
   ]
  },
  {
   "cell_type": "code",
   "execution_count": 33,
   "id": "2031d0cf",
   "metadata": {},
   "outputs": [],
   "source": [
    "time_git = time_to_merge.merge(git_hash, on=\"commit_hash\", how=\"inner\")"
   ]
  },
  {
   "cell_type": "code",
   "execution_count": null,
   "id": "7104f251",
   "metadata": {},
   "outputs": [],
   "source": [
    "time_git.head()"
   ]
  },
  {
   "cell_type": "code",
   "execution_count": null,
   "id": "0ea5380f",
   "metadata": {},
   "outputs": [],
   "source": []
  },
  {
   "cell_type": "code",
   "execution_count": 35,
   "id": "ca2b3979",
   "metadata": {},
   "outputs": [],
   "source": [
    "time_pure = descriptive_cr_pure.merge(time_git, left_on=\"merge_commit_id\", right_on=\"id\", how=\"inner\")"
   ]
  },
  {
   "cell_type": "code",
   "execution_count": null,
   "id": "d53cebce",
   "metadata": {},
   "outputs": [],
   "source": [
    "time_pure.head()"
   ]
  },
  {
   "cell_type": "code",
   "execution_count": 37,
   "id": "04553566",
   "metadata": {},
   "outputs": [
    {
     "data": {
      "image/png": "[encoded data removed]",
      "text/plain": [
       "<Figure size 200x600 with 1 Axes>"
      ]
     },
     "metadata": {},
     "output_type": "display_data"
    }
   ],
   "source": [
    "fig, ax = plt.subplots(figsize=(2, 6))\n",
    "\n",
    "ax.boxplot(descriptive_cr_pure[\"size\"], widths=0.3, patch_artist=True, \n",
    "           boxprops=dict(facecolor=\"lightblue\"), medianprops=dict(color=\"red\"))\n",
    "\n",
    "ax.set_xticklabels(['Pure Refactoring'])\n",
    "ax.set_ylabel('Size of conflicting regions (lines)')\n",
    "ax.set_title('')\n",
    "\n",
    "# Exibir gráfico\n",
    "plt.show()"
   ]
  },
  {
   "cell_type": "code",
   "execution_count": 38,
   "id": "2629f231",
   "metadata": {},
   "outputs": [],
   "source": [
    "crh_pure = time_pure.merge(conflicting_region_history, on=\"merge_commit_id\", how=\"inner\")\n",
    "crh_pure_number = time_pure.merge(conflicting_region_history, on=\"merge_commit_id\", how=\"inner\")\n",
    "crh_pure.drop_duplicates(subset=\"id_y\", inplace=True)\n",
    "crh_pure = crh_pure.groupby('merge_commit_id')['id_y'].nunique()\n",
    "crh_pure = crh_pure.reset_index()\n",
    "crh_pure.rename(columns={\"id_y\":\"number_evolutionary\"}, inplace=True)\n"
   ]
  },
  {
   "cell_type": "code",
   "execution_count": 39,
   "id": "b57b1b50",
   "metadata": {},
   "outputs": [
    {
     "data": {
      "text/html": [
       "<div>\n",
       "<style scoped>\n",
       "    .dataframe tbody tr th:only-of-type {\n",
       "        vertical-align: middle;\n",
       "    }\n",
       "\n",
       "    .dataframe tbody tr th {\n",
       "        vertical-align: top;\n",
       "    }\n",
       "\n",
       "    .dataframe thead th {\n",
       "        text-align: right;\n",
       "    }\n",
       "</style>\n",
       "<table border=\"1\" class=\"dataframe\">\n",
       "  <thead>\n",
       "    <tr style=\"text-align: right;\">\n",
       "      <th></th>\n",
       "      <th>merge_commit_id</th>\n",
       "      <th>number_evolutionary</th>\n",
       "    </tr>\n",
       "  </thead>\n",
       "  <tbody>\n",
       "    <tr>\n",
       "      <th>0</th>\n",
       "      <td>314</td>\n",
       "      <td>29</td>\n",
       "    </tr>\n",
       "    <tr>\n",
       "      <th>1</th>\n",
       "      <td>321</td>\n",
       "      <td>33</td>\n",
       "    </tr>\n",
       "    <tr>\n",
       "      <th>2</th>\n",
       "      <td>18142</td>\n",
       "      <td>9</td>\n",
       "    </tr>\n",
       "    <tr>\n",
       "      <th>3</th>\n",
       "      <td>26330</td>\n",
       "      <td>83</td>\n",
       "    </tr>\n",
       "    <tr>\n",
       "      <th>4</th>\n",
       "      <td>27141</td>\n",
       "      <td>11</td>\n",
       "    </tr>\n",
       "  </tbody>\n",
       "</table>\n",
       "</div>"
      ],
      "text/plain": [
       "   merge_commit_id  number_evolutionary\n",
       "0              314                   29\n",
       "1              321                   33\n",
       "2            18142                    9\n",
       "3            26330                   83\n",
       "4            27141                   11"
      ]
     },
     "execution_count": 39,
     "metadata": {},
     "output_type": "execute_result"
    }
   ],
   "source": [
    "crh_pure.head()"
   ]
  },
  {
   "cell_type": "code",
   "execution_count": 47,
   "id": "fc5ef445",
   "metadata": {},
   "outputs": [],
   "source": [
    "descriptive_cr_pure = descriptive_cr_pure.merge(crh_pure, how=\"inner\", on=\"merge_commit_id\") "
   ]
  },
  {
   "cell_type": "code",
   "execution_count": 41,
   "id": "ece686aa",
   "metadata": {},
   "outputs": [],
   "source": []
  },
  {
   "cell_type": "code",
   "execution_count": 50,
   "id": "da90ee90",
   "metadata": {},
   "outputs": [],
   "source": [
    "descriptive_cr_pure.rename(columns={\"size_x\":\"size\", \"size_y\":\"count\"}, inplace=True)"
   ]
  },
  {
   "cell_type": "code",
   "execution_count": 51,
   "id": "4f00b476",
   "metadata": {},
   "outputs": [
    {
     "data": {
      "text/html": [
       "<div>\n",
       "<style scoped>\n",
       "    .dataframe tbody tr th:only-of-type {\n",
       "        vertical-align: middle;\n",
       "    }\n",
       "\n",
       "    .dataframe tbody tr th {\n",
       "        vertical-align: top;\n",
       "    }\n",
       "\n",
       "    .dataframe thead th {\n",
       "        text-align: right;\n",
       "    }\n",
       "</style>\n",
       "<table border=\"1\" class=\"dataframe\">\n",
       "  <thead>\n",
       "    <tr style=\"text-align: right;\">\n",
       "      <th></th>\n",
       "      <th>merge_commit_id</th>\n",
       "      <th>size</th>\n",
       "      <th>count</th>\n",
       "      <th>number_evolutionary</th>\n",
       "    </tr>\n",
       "  </thead>\n",
       "  <tbody>\n",
       "    <tr>\n",
       "      <th>0</th>\n",
       "      <td>314</td>\n",
       "      <td>166</td>\n",
       "      <td>6</td>\n",
       "      <td>29</td>\n",
       "    </tr>\n",
       "    <tr>\n",
       "      <th>1</th>\n",
       "      <td>321</td>\n",
       "      <td>130</td>\n",
       "      <td>17</td>\n",
       "      <td>33</td>\n",
       "    </tr>\n",
       "    <tr>\n",
       "      <th>2</th>\n",
       "      <td>18142</td>\n",
       "      <td>38</td>\n",
       "      <td>3</td>\n",
       "      <td>9</td>\n",
       "    </tr>\n",
       "    <tr>\n",
       "      <th>3</th>\n",
       "      <td>26330</td>\n",
       "      <td>161</td>\n",
       "      <td>27</td>\n",
       "      <td>83</td>\n",
       "    </tr>\n",
       "    <tr>\n",
       "      <th>4</th>\n",
       "      <td>27141</td>\n",
       "      <td>54</td>\n",
       "      <td>3</td>\n",
       "      <td>11</td>\n",
       "    </tr>\n",
       "  </tbody>\n",
       "</table>\n",
       "</div>"
      ],
      "text/plain": [
       "   merge_commit_id  size  count  number_evolutionary\n",
       "0              314   166      6                   29\n",
       "1              321   130     17                   33\n",
       "2            18142    38      3                    9\n",
       "3            26330   161     27                   83\n",
       "4            27141    54      3                   11"
      ]
     },
     "execution_count": 51,
     "metadata": {},
     "output_type": "execute_result"
    }
   ],
   "source": [
    "descriptive_cr_pure.head()"
   ]
  },
  {
   "cell_type": "code",
   "execution_count": 42,
   "id": "9119fcc7",
   "metadata": {},
   "outputs": [],
   "source": []
  },
  {
   "cell_type": "code",
   "execution_count": 43,
   "id": "fac2fe9d",
   "metadata": {},
   "outputs": [],
   "source": []
  },
  {
   "cell_type": "code",
   "execution_count": 52,
   "id": "7fff8cdd",
   "metadata": {},
   "outputs": [
    {
     "data": {
      "image/png": "[encoded data removed]",
      "text/plain": [
       "<Figure size 200x600 with 1 Axes>"
      ]
     },
     "metadata": {},
     "output_type": "display_data"
    }
   ],
   "source": [
    "fig, ax = plt.subplots(figsize=(2, 6))\n",
    "\n",
    "ax.boxplot(descriptive_cr_pure[\"number_evolutionary\"], widths=0.3, patch_artist=True, \n",
    "           boxprops=dict(facecolor=\"lightblue\"), medianprops=dict(color=\"red\"))\n",
    "\n",
    "ax.set_xticklabels(['Pure Refactoring'])\n",
    "ax.set_ylabel('Number of evolutionary commits')\n",
    "ax.set_title('')\n",
    "\n",
    "plt.show()"
   ]
  },
  {
   "cell_type": "code",
   "execution_count": 53,
   "id": "5311e1bf",
   "metadata": {},
   "outputs": [
    {
     "data": {
      "image/png": "[encoded data removed]",
      "text/plain": [
       "<Figure size 200x600 with 1 Axes>"
      ]
     },
     "metadata": {},
     "output_type": "display_data"
    }
   ],
   "source": [
    "fig, ax = plt.subplots(figsize=(2, 6))\n",
    "\n",
    "ax.boxplot(descriptive_cr_pure[\"count\"], widths=0.3, patch_artist=True, \n",
    "           boxprops=dict(facecolor=\"lightblue\"), medianprops=dict(color=\"red\"))\n",
    "\n",
    "ax.set_xticklabels(['Pure Refactoring'])\n",
    "ax.set_ylabel('Number of conflicting regions')\n",
    "ax.set_title('')\n",
    "\n",
    "plt.show()"
   ]
  },
  {
   "cell_type": "code",
   "execution_count": null,
   "id": "54a088f1",
   "metadata": {},
   "outputs": [],
   "source": []
  },
  {
   "cell_type": "code",
   "execution_count": null,
   "id": "4588ef87",
   "metadata": {},
   "outputs": [],
   "source": []
  },
  {
   "cell_type": "code",
   "execution_count": 54,
   "id": "2aaadaeb",
   "metadata": {},
   "outputs": [
    {
     "data": {
      "text/plain": [
       "count    1802.000000\n",
       "mean       19.027192\n",
       "std        62.759519\n",
       "min         0.000000\n",
       "25%         2.000000\n",
       "50%         7.000000\n",
       "75%        15.000000\n",
       "max      1964.000000\n",
       "Name: size, dtype: float64"
      ]
     },
     "execution_count": 54,
     "metadata": {},
     "output_type": "execute_result"
    }
   ],
   "source": [
    "conflicting_regions_size_floss_git = conflicting_regions_git[conflicting_regions_git[\"floss\"] == \"yes\"][[\"p1_start\", \"p1_length\",\"p2_start\", \"p2_length\", \"merge_commit_id\"]]\n",
    "size = conflicting_regions_size_floss_git[\"p1_length\"] + conflicting_regions_size_floss_git[\"p2_length\"] \n",
    "conflicting_regions_size_floss_git[\"size\"] = size\n",
    "conflicting_regions_size_floss_git[\"size\"].describe()"
   ]
  },
  {
   "cell_type": "code",
   "execution_count": 55,
   "id": "674e146e",
   "metadata": {},
   "outputs": [],
   "source": [
    "box_plot_floss_size = conflicting_regions_size_floss_git.groupby(\"merge_commit_id\").agg({\"size\": np.sum})\n",
    "box_plot_floss_size.reset_index(inplace=True)"
   ]
  },
  {
   "cell_type": "code",
   "execution_count": 56,
   "id": "e5a75180",
   "metadata": {},
   "outputs": [],
   "source": [
    "box_plot_floss_count = conflicting_regions_size_floss_git.groupby(\"merge_commit_id\").agg({\"size\": np.size})\n",
    "box_plot_floss_count.reset_index(inplace=True)"
   ]
  },
  {
   "cell_type": "code",
   "execution_count": 57,
   "id": "65468123",
   "metadata": {},
   "outputs": [
    {
     "data": {
      "text/html": [
       "<div>\n",
       "<style scoped>\n",
       "    .dataframe tbody tr th:only-of-type {\n",
       "        vertical-align: middle;\n",
       "    }\n",
       "\n",
       "    .dataframe tbody tr th {\n",
       "        vertical-align: top;\n",
       "    }\n",
       "\n",
       "    .dataframe thead th {\n",
       "        text-align: right;\n",
       "    }\n",
       "</style>\n",
       "<table border=\"1\" class=\"dataframe\">\n",
       "  <thead>\n",
       "    <tr style=\"text-align: right;\">\n",
       "      <th></th>\n",
       "      <th>merge_commit_id</th>\n",
       "      <th>size</th>\n",
       "    </tr>\n",
       "  </thead>\n",
       "  <tbody>\n",
       "    <tr>\n",
       "      <th>0</th>\n",
       "      <td>575</td>\n",
       "      <td>3</td>\n",
       "    </tr>\n",
       "    <tr>\n",
       "      <th>1</th>\n",
       "      <td>15155</td>\n",
       "      <td>1</td>\n",
       "    </tr>\n",
       "    <tr>\n",
       "      <th>2</th>\n",
       "      <td>21211</td>\n",
       "      <td>2</td>\n",
       "    </tr>\n",
       "    <tr>\n",
       "      <th>3</th>\n",
       "      <td>22833</td>\n",
       "      <td>26</td>\n",
       "    </tr>\n",
       "    <tr>\n",
       "      <th>4</th>\n",
       "      <td>22935</td>\n",
       "      <td>44</td>\n",
       "    </tr>\n",
       "  </tbody>\n",
       "</table>\n",
       "</div>"
      ],
      "text/plain": [
       "   merge_commit_id  size\n",
       "0              575     3\n",
       "1            15155     1\n",
       "2            21211     2\n",
       "3            22833    26\n",
       "4            22935    44"
      ]
     },
     "execution_count": 57,
     "metadata": {},
     "output_type": "execute_result"
    }
   ],
   "source": [
    "box_plot_floss_count.head()"
   ]
  },
  {
   "cell_type": "code",
   "execution_count": 58,
   "id": "bb4abd42",
   "metadata": {},
   "outputs": [
    {
     "data": {
      "text/html": [
       "<div>\n",
       "<style scoped>\n",
       "    .dataframe tbody tr th:only-of-type {\n",
       "        vertical-align: middle;\n",
       "    }\n",
       "\n",
       "    .dataframe tbody tr th {\n",
       "        vertical-align: top;\n",
       "    }\n",
       "\n",
       "    .dataframe thead th {\n",
       "        text-align: right;\n",
       "    }\n",
       "</style>\n",
       "<table border=\"1\" class=\"dataframe\">\n",
       "  <thead>\n",
       "    <tr style=\"text-align: right;\">\n",
       "      <th></th>\n",
       "      <th>merge_commit_id</th>\n",
       "      <th>size_x</th>\n",
       "      <th>size_y</th>\n",
       "    </tr>\n",
       "  </thead>\n",
       "  <tbody>\n",
       "    <tr>\n",
       "      <th>0</th>\n",
       "      <td>575</td>\n",
       "      <td>55</td>\n",
       "      <td>3</td>\n",
       "    </tr>\n",
       "    <tr>\n",
       "      <th>1</th>\n",
       "      <td>15155</td>\n",
       "      <td>8</td>\n",
       "      <td>1</td>\n",
       "    </tr>\n",
       "    <tr>\n",
       "      <th>2</th>\n",
       "      <td>21211</td>\n",
       "      <td>8</td>\n",
       "      <td>2</td>\n",
       "    </tr>\n",
       "    <tr>\n",
       "      <th>3</th>\n",
       "      <td>22833</td>\n",
       "      <td>556</td>\n",
       "      <td>26</td>\n",
       "    </tr>\n",
       "    <tr>\n",
       "      <th>4</th>\n",
       "      <td>22935</td>\n",
       "      <td>1017</td>\n",
       "      <td>44</td>\n",
       "    </tr>\n",
       "  </tbody>\n",
       "</table>\n",
       "</div>"
      ],
      "text/plain": [
       "   merge_commit_id  size_x  size_y\n",
       "0              575      55       3\n",
       "1            15155       8       1\n",
       "2            21211       8       2\n",
       "3            22833     556      26\n",
       "4            22935    1017      44"
      ]
     },
     "execution_count": 58,
     "metadata": {},
     "output_type": "execute_result"
    }
   ],
   "source": [
    "descriptive_cr_floss = box_plot_floss_size.merge(box_plot_floss_count, on=\"merge_commit_id\", how=\"inner\")\n",
    "descriptive_cr_floss.head()"
   ]
  },
  {
   "cell_type": "code",
   "execution_count": 59,
   "id": "5254d09b",
   "metadata": {},
   "outputs": [
    {
     "data": {
      "text/html": [
       "<div>\n",
       "<style scoped>\n",
       "    .dataframe tbody tr th:only-of-type {\n",
       "        vertical-align: middle;\n",
       "    }\n",
       "\n",
       "    .dataframe tbody tr th {\n",
       "        vertical-align: top;\n",
       "    }\n",
       "\n",
       "    .dataframe thead th {\n",
       "        text-align: right;\n",
       "    }\n",
       "</style>\n",
       "<table border=\"1\" class=\"dataframe\">\n",
       "  <thead>\n",
       "    <tr style=\"text-align: right;\">\n",
       "      <th></th>\n",
       "      <th>merge_commit_id</th>\n",
       "      <th>size</th>\n",
       "      <th>count</th>\n",
       "    </tr>\n",
       "  </thead>\n",
       "  <tbody>\n",
       "    <tr>\n",
       "      <th>0</th>\n",
       "      <td>575</td>\n",
       "      <td>55</td>\n",
       "      <td>3</td>\n",
       "    </tr>\n",
       "    <tr>\n",
       "      <th>1</th>\n",
       "      <td>15155</td>\n",
       "      <td>8</td>\n",
       "      <td>1</td>\n",
       "    </tr>\n",
       "    <tr>\n",
       "      <th>2</th>\n",
       "      <td>21211</td>\n",
       "      <td>8</td>\n",
       "      <td>2</td>\n",
       "    </tr>\n",
       "    <tr>\n",
       "      <th>3</th>\n",
       "      <td>22833</td>\n",
       "      <td>556</td>\n",
       "      <td>26</td>\n",
       "    </tr>\n",
       "    <tr>\n",
       "      <th>4</th>\n",
       "      <td>22935</td>\n",
       "      <td>1017</td>\n",
       "      <td>44</td>\n",
       "    </tr>\n",
       "  </tbody>\n",
       "</table>\n",
       "</div>"
      ],
      "text/plain": [
       "   merge_commit_id  size  count\n",
       "0              575    55      3\n",
       "1            15155     8      1\n",
       "2            21211     8      2\n",
       "3            22833   556     26\n",
       "4            22935  1017     44"
      ]
     },
     "execution_count": 59,
     "metadata": {},
     "output_type": "execute_result"
    }
   ],
   "source": [
    "descriptive_cr_floss.rename(columns={\"size_x\":\"size\", \"size_y\":\"count\"}, inplace=True)\n",
    "descriptive_cr_floss.head()"
   ]
  },
  {
   "cell_type": "code",
   "execution_count": 60,
   "id": "b08f2109",
   "metadata": {},
   "outputs": [
    {
     "data": {
      "text/html": [
       "<div>\n",
       "<style scoped>\n",
       "    .dataframe tbody tr th:only-of-type {\n",
       "        vertical-align: middle;\n",
       "    }\n",
       "\n",
       "    .dataframe tbody tr th {\n",
       "        vertical-align: top;\n",
       "    }\n",
       "\n",
       "    .dataframe thead th {\n",
       "        text-align: right;\n",
       "    }\n",
       "</style>\n",
       "<table border=\"1\" class=\"dataframe\">\n",
       "  <thead>\n",
       "    <tr style=\"text-align: right;\">\n",
       "      <th></th>\n",
       "      <th>merge_commit_id</th>\n",
       "      <th>size</th>\n",
       "      <th>count</th>\n",
       "      <th>commit_hash</th>\n",
       "      <th>delta_time</th>\n",
       "      <th>id</th>\n",
       "    </tr>\n",
       "  </thead>\n",
       "  <tbody>\n",
       "    <tr>\n",
       "      <th>0</th>\n",
       "      <td>575</td>\n",
       "      <td>55</td>\n",
       "      <td>3</td>\n",
       "      <td>c68168f07b936aa7994d1ec2df0ab3326bc882b8</td>\n",
       "      <td>2385.0</td>\n",
       "      <td>575</td>\n",
       "    </tr>\n",
       "    <tr>\n",
       "      <th>1</th>\n",
       "      <td>15155</td>\n",
       "      <td>8</td>\n",
       "      <td>1</td>\n",
       "      <td>f551e70534da17f61bf3ba3529ba75b236babdd3</td>\n",
       "      <td>1706.0</td>\n",
       "      <td>15155</td>\n",
       "    </tr>\n",
       "    <tr>\n",
       "      <th>2</th>\n",
       "      <td>21211</td>\n",
       "      <td>8</td>\n",
       "      <td>2</td>\n",
       "      <td>12d8506cf83520f1e7612bdd0a6114ee0cb84685</td>\n",
       "      <td>5553327.0</td>\n",
       "      <td>21211</td>\n",
       "    </tr>\n",
       "    <tr>\n",
       "      <th>3</th>\n",
       "      <td>22833</td>\n",
       "      <td>556</td>\n",
       "      <td>26</td>\n",
       "      <td>aa6f5118f5b88ed40e1318b59d47465bae6067df</td>\n",
       "      <td>84976.0</td>\n",
       "      <td>22833</td>\n",
       "    </tr>\n",
       "    <tr>\n",
       "      <th>4</th>\n",
       "      <td>22935</td>\n",
       "      <td>1017</td>\n",
       "      <td>44</td>\n",
       "      <td>e1d07214dfe12f893aa4052e08dbc3025f5cb67d</td>\n",
       "      <td>166864.0</td>\n",
       "      <td>22935</td>\n",
       "    </tr>\n",
       "  </tbody>\n",
       "</table>\n",
       "</div>"
      ],
      "text/plain": [
       "   merge_commit_id  size  count                               commit_hash  \\\n",
       "0              575    55      3  c68168f07b936aa7994d1ec2df0ab3326bc882b8   \n",
       "1            15155     8      1  f551e70534da17f61bf3ba3529ba75b236babdd3   \n",
       "2            21211     8      2  12d8506cf83520f1e7612bdd0a6114ee0cb84685   \n",
       "3            22833   556     26  aa6f5118f5b88ed40e1318b59d47465bae6067df   \n",
       "4            22935  1017     44  e1d07214dfe12f893aa4052e08dbc3025f5cb67d   \n",
       "\n",
       "   delta_time     id  \n",
       "0      2385.0    575  \n",
       "1      1706.0  15155  \n",
       "2   5553327.0  21211  \n",
       "3     84976.0  22833  \n",
       "4    166864.0  22935  "
      ]
     },
     "execution_count": 60,
     "metadata": {},
     "output_type": "execute_result"
    }
   ],
   "source": [
    "time_floss = descriptive_cr_floss.merge(time_git, left_on=\"merge_commit_id\", right_on=\"id\", how=\"inner\")\n",
    "time_floss.head()"
   ]
  },
  {
   "cell_type": "code",
   "execution_count": 61,
   "id": "62f09a9b",
   "metadata": {},
   "outputs": [
    {
     "data": {
      "image/png": "[encoded data removed]",
      "text/plain": [
       "<Figure size 200x600 with 1 Axes>"
      ]
     },
     "metadata": {},
     "output_type": "display_data"
    }
   ],
   "source": [
    "fig, ax = plt.subplots(figsize=(2, 6))\n",
    "\n",
    "ax.boxplot(descriptive_cr_floss[\"size\"], widths=0.3, patch_artist=True, \n",
    "           boxprops=dict(facecolor=\"lightblue\"), medianprops=dict(color=\"red\"))\n",
    "\n",
    "ax.set_xticklabels(['Floss Refactoring'])\n",
    "ax.set_ylabel('Size of conflicting regions (lines)')\n",
    "ax.set_title('')\n",
    "\n",
    "plt.show()\n"
   ]
  },
  {
   "cell_type": "code",
   "execution_count": 62,
   "id": "3964a1ae",
   "metadata": {},
   "outputs": [],
   "source": [
    "crh_floss = time_floss.merge(conflicting_region_history, on=\"merge_commit_id\", how=\"inner\")\n",
    "crh_floss_number = time_floss.merge(conflicting_region_history, on=\"merge_commit_id\", how=\"inner\")\n",
    "crh_floss.drop_duplicates(subset=\"id_y\", inplace=True)\n",
    "crh_floss = crh_floss.groupby('merge_commit_id')['id_y'].nunique()\n",
    "crh_floss = crh_floss.reset_index()\n",
    "crh_floss.rename(columns={\"id_y\":\"number_evolutionary\"}, inplace=True)"
   ]
  },
  {
   "cell_type": "code",
   "execution_count": 63,
   "id": "c4fac30d",
   "metadata": {},
   "outputs": [
    {
     "data": {
      "text/html": [
       "<div>\n",
       "<style scoped>\n",
       "    .dataframe tbody tr th:only-of-type {\n",
       "        vertical-align: middle;\n",
       "    }\n",
       "\n",
       "    .dataframe tbody tr th {\n",
       "        vertical-align: top;\n",
       "    }\n",
       "\n",
       "    .dataframe thead th {\n",
       "        text-align: right;\n",
       "    }\n",
       "</style>\n",
       "<table border=\"1\" class=\"dataframe\">\n",
       "  <thead>\n",
       "    <tr style=\"text-align: right;\">\n",
       "      <th></th>\n",
       "      <th>merge_commit_id</th>\n",
       "      <th>number_evolutionary</th>\n",
       "    </tr>\n",
       "  </thead>\n",
       "  <tbody>\n",
       "    <tr>\n",
       "      <th>0</th>\n",
       "      <td>575</td>\n",
       "      <td>9</td>\n",
       "    </tr>\n",
       "    <tr>\n",
       "      <th>1</th>\n",
       "      <td>15155</td>\n",
       "      <td>5</td>\n",
       "    </tr>\n",
       "    <tr>\n",
       "      <th>2</th>\n",
       "      <td>21211</td>\n",
       "      <td>7</td>\n",
       "    </tr>\n",
       "    <tr>\n",
       "      <th>3</th>\n",
       "      <td>22833</td>\n",
       "      <td>69</td>\n",
       "    </tr>\n",
       "    <tr>\n",
       "      <th>4</th>\n",
       "      <td>22935</td>\n",
       "      <td>168</td>\n",
       "    </tr>\n",
       "  </tbody>\n",
       "</table>\n",
       "</div>"
      ],
      "text/plain": [
       "   merge_commit_id  number_evolutionary\n",
       "0              575                    9\n",
       "1            15155                    5\n",
       "2            21211                    7\n",
       "3            22833                   69\n",
       "4            22935                  168"
      ]
     },
     "execution_count": 63,
     "metadata": {},
     "output_type": "execute_result"
    }
   ],
   "source": [
    "crh_floss.head()"
   ]
  },
  {
   "cell_type": "code",
   "execution_count": 64,
   "id": "042ec9b6",
   "metadata": {},
   "outputs": [],
   "source": [
    "descriptive_cr_floss = descriptive_cr_floss.merge(crh_floss, how=\"inner\", on=\"merge_commit_id\") "
   ]
  },
  {
   "cell_type": "code",
   "execution_count": null,
   "id": "9d71686d",
   "metadata": {},
   "outputs": [],
   "source": []
  },
  {
   "cell_type": "code",
   "execution_count": 65,
   "id": "6bd44f94",
   "metadata": {},
   "outputs": [
    {
     "data": {
      "image/png": "[encoded data removed]",
      "text/plain": [
       "<Figure size 200x600 with 1 Axes>"
      ]
     },
     "metadata": {},
     "output_type": "display_data"
    }
   ],
   "source": [
    "fig, ax = plt.subplots(figsize=(2, 6))\n",
    "\n",
    "ax.boxplot(descriptive_cr_floss[\"number_evolutionary\"], widths=0.3, patch_artist=True, \n",
    "           boxprops=dict(facecolor=\"lightblue\"), medianprops=dict(color=\"red\"))\n",
    "\n",
    "ax.set_xticklabels(['Floss Refactoring'])\n",
    "ax.set_ylabel('Number of evolutionary commits')\n",
    "ax.set_title('')\n",
    "\n",
    "plt.show()\n"
   ]
  },
  {
   "cell_type": "code",
   "execution_count": null,
   "id": "11fc80f6",
   "metadata": {},
   "outputs": [],
   "source": []
  },
  {
   "cell_type": "code",
   "execution_count": 66,
   "id": "72623bad",
   "metadata": {},
   "outputs": [
    {
     "data": {
      "image/png": "[encoded data removed]",
      "text/plain": [
       "<Figure size 200x600 with 1 Axes>"
      ]
     },
     "metadata": {},
     "output_type": "display_data"
    }
   ],
   "source": [
    "fig, ax = plt.subplots(figsize=(2, 6))\n",
    "\n",
    "ax.boxplot(descriptive_cr_floss[\"count\"], widths=0.3, patch_artist=True, \n",
    "           boxprops=dict(facecolor=\"lightblue\"), medianprops=dict(color=\"red\"))\n",
    "\n",
    "ax.set_xticklabels(['floss Refactoring'])\n",
    "ax.set_ylabel('Number of conflicting regions')\n",
    "ax.set_title('')\n",
    "\n",
    "plt.show()"
   ]
  },
  {
   "cell_type": "markdown",
   "id": "f7855a64",
   "metadata": {},
   "source": [
    "### Shapiro-Wilk test - number of conflicting regions"
   ]
  },
  {
   "cell_type": "code",
   "execution_count": null,
   "id": "f0f4ec83",
   "metadata": {},
   "outputs": [],
   "source": [
    "import scipy.stats as stats\n",
    "\n",
    "floss_group = descriptive_cr_floss[\"count\"]\n",
    "pure_group = descriptive_cr_pure[\"count\"]\n",
    "\n",
    "stat1, p1 = stats.shapiro(floss_group)\n",
    "stat2, p2 = stats.shapiro(pure_group)\n",
    "\n",
    "print(f\"Shapiro-Wilk test - floss_group: p-value = {p1}\")\n",
    "print(f\"Shapiro-Wilk test - pure_group: p-value = {p2}\")"
   ]
  },
  {
   "cell_type": "code",
   "execution_count": null,
   "id": "9ae42223",
   "metadata": {},
   "outputs": [],
   "source": [
    "stat, p_value = stats.mannwhitneyu(floss_group, pure_group, alternative='two-sided')\n",
    "\n",
    "print(f\"U statistics: {stat}\")\n",
    "print(f\"p-value: {p_value}\")\n",
    "\n",
    "if p_value < 0.05:\n",
    "    print(\"Reject H0: different groups.\")\n",
    "else:\n",
    "    print(\"Do not reject H0: statistically similar groups.\")"
   ]
  },
  {
   "cell_type": "markdown",
   "id": "afdf56df",
   "metadata": {},
   "source": [
    "### Shapiro-Wilk test - size of conflicting regions"
   ]
  },
  {
   "cell_type": "code",
   "execution_count": null,
   "id": "3deac45a",
   "metadata": {},
   "outputs": [],
   "source": [
    "import scipy.stats as stats\n",
    "\n",
    "floss_group = descriptive_cr_floss[\"size\"]\n",
    "pure_group = descriptive_cr_pure[\"size\"]\n",
    "\n",
    "stat1, p1 = stats.shapiro(floss_group)\n",
    "stat2, p2 = stats.shapiro(pure_group)\n",
    "\n",
    "print(f\"Shapiro-Wilk test - floss_group: p-value = {p1}\")\n",
    "print(f\"Shapiro-Wilk test - pure_group: p-value = {p2}\")\n"
   ]
  },
  {
   "cell_type": "code",
   "execution_count": null,
   "id": "6b8b05ce",
   "metadata": {},
   "outputs": [],
   "source": [
    "stat, p_value = stats.mannwhitneyu(floss_group, pure_group, alternative='two-sided')\n",
    "\n",
    "print(f\"U statistics: {stat}\")\n",
    "print(f\"p-value: {p_value}\")\n",
    "\n",
    "if p_value < 0.05:\n",
    "    print(\"Reject H0: different groups.\")\n",
    "else:\n",
    "    print(\"Do not reject H0: statistically similar groups.\")"
   ]
  },
  {
   "cell_type": "markdown",
   "id": "356c148f",
   "metadata": {},
   "source": [
    "### Shapiro-Wilk test - number of evolutionary commits"
   ]
  },
  {
   "cell_type": "code",
   "execution_count": null,
   "id": "6f268d26",
   "metadata": {},
   "outputs": [],
   "source": [
    "import scipy.stats as stats\n",
    "\n",
    "floss_group = descriptive_cr_floss[\"number_evolutionary\"]\n",
    "pure_group = descriptive_cr_pure[\"number_evolutionary\"]\n",
    "\n",
    "stat1, p1 = stats.shapiro(floss_group)\n",
    "stat2, p2 = stats.shapiro(pure_group)\n",
    "\n",
    "print(f\"Shapiro-Wilk test - floss_group: p-value = {p1}\")\n",
    "print(f\"Shapiro-Wilk test - pure_group: p-value = {p2}\")\n"
   ]
  },
  {
   "cell_type": "code",
   "execution_count": null,
   "id": "0e7fbd79",
   "metadata": {},
   "outputs": [],
   "source": [
    "stat, p_value = stats.mannwhitneyu(floss_group, pure_group, alternative='two-sided')\n",
    "\n",
    "print(f\"U statistics: {stat}\")\n",
    "print(f\"p-value: {p_value}\")\n",
    "\n",
    "if p_value < 0.05:\n",
    "    print(\"Reject H0: different groups.\")\n",
    "else:\n",
    "    print(\"Do not reject H0: statistically similar groups.\")"
   ]
  }
 ],
 "metadata": {
  "kernelspec": {
   "display_name": "Python 3 (ipykernel)",
   "language": "python",
   "name": "python3"
  },
  "language_info": {
   "codemirror_mode": {
    "name": "ipython",
    "version": 3
   },
   "file_extension": ".py",
   "mimetype": "text/x-python",
   "name": "python",
   "nbconvert_exporter": "python",
   "pygments_lexer": "ipython3",
   "version": "3.11.3"
  }
 },
 "nbformat": 4,
 "nbformat_minor": 5
}
