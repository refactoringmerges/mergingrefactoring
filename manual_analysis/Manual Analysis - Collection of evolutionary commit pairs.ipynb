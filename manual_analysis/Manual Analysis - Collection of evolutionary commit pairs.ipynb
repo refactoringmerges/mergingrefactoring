{
 "cells": [
  {
   "cell_type": "code",
   "execution_count": 1,
   "id": "f1425135",
   "metadata": {},
   "outputs": [],
   "source": [
    "import pandas as pd\n",
    "import numpy as np"
   ]
  },
  {
   "cell_type": "code",
   "execution_count": null,
   "id": "6317009e",
   "metadata": {},
   "outputs": [],
   "source": [
    "data_git = pd.read_csv(r\"E:\\data\\merge_commit.csv\", sep=\",\", header=None)\n",
    "data_git.columns = [\"id\", \"commit_hash\", \"is_conflicting\", \"p1\", \"p2\", \"project_id\", \"is_done\", \"author_name\", \n",
    "                 \"author_email\", \"timestamp\"]"
   ]
  },
  {
   "cell_type": "code",
   "execution_count": null,
   "id": "178b2034",
   "metadata": {},
   "outputs": [],
   "source": [
    "results_git = pd.read_csv(r\"E:\\data\\manual_analysis_results.csv\", sep=\";\")"
   ]
  },
  {
   "cell_type": "code",
   "execution_count": null,
   "id": "dbede128",
   "metadata": {},
   "outputs": [],
   "source": [
    "results_git[\"project_id\"].value_counts().count()"
   ]
  },
  {
   "cell_type": "code",
   "execution_count": null,
   "id": "b63cb8df",
   "metadata": {},
   "outputs": [],
   "source": []
  },
  {
   "cell_type": "code",
   "execution_count": null,
   "id": "ca3e2568",
   "metadata": {},
   "outputs": [],
   "source": [
    "refactoring_region = pd.read_csv(r\"E:\\data\\refactoring_region.csv\", sep=\",\", header=None)\n",
    "refactoring_region.columns = [\"id\", \"start_line\", \"length\", \"type\", \"path\", \"refactoring_id\", \"refactoring_commit_id\", \n",
    "                              \"commit_hash\", \"project_id\"]"
   ]
  },
  {
   "cell_type": "code",
   "execution_count": null,
   "id": "86d0a739",
   "metadata": {},
   "outputs": [],
   "source": [
    "conflicting_region_history = pd.read_csv(r\"E:\\data\\conflicting_region_history.csv\", sep=\",\", header=None)\n",
    "conflicting_region_history.columns = [\"id\", \"commit_hash\", \"merge_parent\", \"old_start_line\", \"old_length\", \"old_path\", \n",
    "                                      \"new_start_line\", \"new_length\", \"new_path\", \"conflicting_region_id\", \n",
    "                                      \"conflicting_java_file_id\", \"merge_commit_id\", \"project_id\", \"author_name\", \n",
    "                                      \"author_email\", \"timestamp\"]"
   ]
  },
  {
   "cell_type": "code",
   "execution_count": null,
   "id": "0b61d10a",
   "metadata": {},
   "outputs": [],
   "source": [
    "conflicting_region_history.drop(columns = [\"old_start_line\", \"old_length\", \"old_path\", \"new_start_line\", \"new_length\", \n",
    "                                           \"new_path\", \"author_name\", \"author_email\", \"conflicting_region_id\", \n",
    "                                           \"conflicting_java_file_id\", \"conflicting_region_id\"], inplace=True)"
   ]
  },
  {
   "cell_type": "code",
   "execution_count": null,
   "id": "455adc21",
   "metadata": {},
   "outputs": [],
   "source": []
  },
  {
   "cell_type": "code",
   "execution_count": null,
   "id": "b8da3228",
   "metadata": {},
   "outputs": [],
   "source": [
    "evolutionary_commits_with_refactoring = refactoring_region.merge(conflicting_region_history, on=\"commit_hash\", how=\"inner\")"
   ]
  },
  {
   "cell_type": "code",
   "execution_count": null,
   "id": "f2e66a4e",
   "metadata": {},
   "outputs": [],
   "source": [
    "chr_and_refactorings = refactoring_region.merge(conflicting_region_history, on=\"commit_hash\", how=\"right\")"
   ]
  },
  {
   "cell_type": "code",
   "execution_count": null,
   "id": "a9200a8c",
   "metadata": {},
   "outputs": [],
   "source": [
    "chr_and_refactorings.drop_duplicates(subset=\"id_y\", inplace=True)"
   ]
  },
  {
   "cell_type": "code",
   "execution_count": null,
   "id": "9f0c6a8e",
   "metadata": {},
   "outputs": [],
   "source": [
    "data = chr_and_refactorings\n",
    "df = pd.DataFrame(data)\n",
    "\n",
    "condition = df.isna().any(axis=1)\n",
    "regs_with_nan = df[condition]\n",
    "\n",
    "# evolutionary and without refactoring\n",
    "print(\"Registers containing at least one NaN:\")\n",
    "display(regs_with_nan)"
   ]
  },
  {
   "cell_type": "code",
   "execution_count": null,
   "id": "b42114a2",
   "metadata": {},
   "outputs": [],
   "source": [
    "chr_rr = regs_with_nan.drop(columns=[\"id_x\", \"start_line\", \"length\", \"type\", \"path\", \"refactoring_id\", \n",
    "                                         \"refactoring_commit_id\", \"project_id_x\"])"
   ]
  },
  {
   "cell_type": "code",
   "execution_count": null,
   "id": "4df9906a",
   "metadata": {},
   "outputs": [],
   "source": [
    "chr_rr_intersect = conflicting_region_history.merge(refactoring_region, on=\"commit_hash\", how=\"inner\")"
   ]
  },
  {
   "cell_type": "code",
   "execution_count": null,
   "id": "5ed7bc5d",
   "metadata": {},
   "outputs": [],
   "source": [
    "chr_rr_intersect.drop_duplicates(subset=\"id_x\", inplace=True)\n",
    "chr_rr_intersect.reset_index(drop=True, inplace=True)"
   ]
  },
  {
   "cell_type": "code",
   "execution_count": null,
   "id": "85add9d1",
   "metadata": {},
   "outputs": [],
   "source": [
    "chr_rr_intersect[\"refactoring\"] = 1\n",
    "chr_rr_intersect = chr_rr_intersect[[\"commit_hash\", \"merge_parent\", \"merge_commit_id\", \"project_id_y\", \"t"
   ]
  },
  {
   "cell_type": "code",
   "execution_count": null,
   "id": "0908f2f7",
   "metadata": {},
   "outputs": [],
   "source": [
    "chr_rr_intersect.reset_index(drop=True, inplace=True)"
   ]
  },
  {
   "cell_type": "code",
   "execution_count": null,
   "id": "bb89e4c2",
   "metadata": {},
   "outputs": [],
   "source": [
    "chr_rr[\"refactoring\"] = 0\n",
    "chr_without_refactoring = chr_rr[[\"commit_hash\", \"merge_parent\", \"merge_commit_id\", \"project_id_y\", \"timestamp\", \"refactoring\"]]"
   ]
  },
  {
   "cell_type": "code",
   "execution_count": null,
   "id": "a89b82f9",
   "metadata": {},
   "outputs": [],
   "source": [
    "chr_rr_intersect"
   ]
  },
  {
   "cell_type": "code",
   "execution_count": null,
   "id": "f3e95d9a",
   "metadata": {},
   "outputs": [],
   "source": []
  },
  {
   "cell_type": "code",
   "execution_count": null,
   "id": "cd19e1ba",
   "metadata": {},
   "outputs": [],
   "source": []
  },
  {
   "cell_type": "code",
   "execution_count": 6,
   "id": "06b5e985",
   "metadata": {},
   "outputs": [],
   "source": [
    "chr_with_without_refactoring = pd.read_csv(r\"E:\\data\\evolutionary_with_without_refactorings.csv\", sep=\",\")\n",
    "\n"
   ]
  },
  {
   "cell_type": "code",
   "execution_count": null,
   "id": "6479222a",
   "metadata": {},
   "outputs": [],
   "source": []
  },
  {
   "cell_type": "code",
   "execution_count": 8,
   "id": "bf440954",
   "metadata": {},
   "outputs": [],
   "source": [
    "def return_pairs(df_left) :\n",
    "    pairs = pd.DataFrame(columns = [\"commit_hash_origin\", \"commit_hash_destiny\", \"project_id\", \"merge_commit_id\"])\n",
    "    df_all = pd.DataFrame()\n",
    "    for i in range(1, len(df_left)):\n",
    "        current_line = df_left.iloc[i]  \n",
    "        previous_line = df_left.iloc[i - 1]  \n",
    "        df = pd.DataFrame()\n",
    "        if (line['refactoring'] == 1 and previous_line['refactoring'] == 0) or (current_line['refactoring'] == 1 and previous_line['refactoring'] == 1):\n",
    "            x = previous_line.commit_hash\n",
    "            y = current_line.commit_hash\n",
    "            z = current_line.merge_commit_id\n",
    "            w = current_line.project_id_y\n",
    "            data2 = {'commit_hash_origin': x, 'commit_hash_destiny': y, 'project_id': w, 'merge_commit_id': z}\n",
    "            #print(data2)\n",
    "            new_line = pd.Series(data2, name=len(df))\n",
    "            df = df.append(new_line)\n",
    "            pairs = pairs.append(df, ignore_index=True)\n",
    "            df_refactorings = evolutionary_refactorings(aux)\n",
    "            df_all = df_all.append(df_refactorings, ignore_index=True)\n",
    "\n",
    "    return pairs, df_all"
   ]
  },
  {
   "cell_type": "code",
   "execution_count": null,
   "id": "a174b19a",
   "metadata": {},
   "outputs": [],
   "source": []
  },
  {
   "cell_type": "code",
   "execution_count": 9,
   "id": "a0588279",
   "metadata": {},
   "outputs": [],
   "source": [
    "def evolutionary_refactorings(aux):\n",
    "    df = pd.DataFrame()\n",
    "    aux.reset_index(drop=True, inplace=True)\n",
    "    if len(aux) == aux[\"refactoring\"].sum():\n",
    "        data2 = {'project_id': aux[\"project_id_y\"][0], 'merge_commit_id': aux[\"merge_commit_id\"][0], 'all_commits_ref': 1}\n",
    "        new_line = pd.Series(data2, name=len(df))\n",
    "        df = df.append(new_line)      \n",
    "    else :\n",
    "        data2 = {'project_id': aux[\"project_id_y\"][0], 'merge_commit_id': aux[\"merge_commit_id\"][0], 'all_commits_ref': 0}\n",
    "        new_line = pd.Series(data2, name=len(df))\n",
    "        df = df.append(new_line)\n",
    "    return df"
   ]
  },
  {
   "cell_type": "code",
   "execution_count": null,
   "id": "57da5d24",
   "metadata": {},
   "outputs": [],
   "source": [
    "result = pd.DataFrame()\n",
    "refs = pd.DataFrame()\n",
    "for i in chr_with_without_refactoring.merge_commit_id.unique() :\n",
    "    aux = chr_with_without_refactoring[chr_with_without_refactoring[\"merge_commit_id\"] == i].drop_duplicates(\"commit_hash\")\n",
    "    df_left = aux.query(\"merge_parent == 1\").reset_index(drop=True)\n",
    "    df_right = aux.query(\"merge_parent == 2\").reset_index(drop=True)\n",
    "    pairs_left , refactorings_evolutionary_left = return_pairs(df_left)\n",
    "    pairs_right , refactorings_evolutionary_right = return_pairs(df_right)\n",
    "    result = result.append(pairs_left, ignore_index=True)\n",
    "    result = result.append(pairs_right, ignore_index=True)\n",
    "    refs = refs.append(refactorings_evolutionary_left, ignore_index=True)\n",
    "    refs = refs.append(refactorings_evolutionary_right, ignore_index=True)"
   ]
  },
  {
   "cell_type": "code",
   "execution_count": null,
   "id": "64dbe37c",
   "metadata": {},
   "outputs": [],
   "source": [
    "# Collecting a random sample\n",
    "sample_size = 96\n",
    "random_sample = np.random.choice(result.index, sample_size, replace=False)\n",
    "\n",
    "print(\"Random sample:\", random_sample)"
   ]
  },
  {
   "cell_type": "code",
   "execution_count": null,
   "id": "64e800a1",
   "metadata": {},
   "outputs": [],
   "source": []
  },
  {
   "cell_type": "code",
   "execution_count": 15,
   "id": "436f1707",
   "metadata": {},
   "outputs": [],
   "source": [
    "ordered_numbers = sorted(random_sample)"
   ]
  },
  {
   "cell_type": "code",
   "execution_count": null,
   "id": "251d635c",
   "metadata": {},
   "outputs": [],
   "source": []
  },
  {
   "cell_type": "code",
   "execution_count": null,
   "id": "3875d4d3",
   "metadata": {},
   "outputs": [],
   "source": [
    "df = pd.DataFrame()\n",
    "for id in ordered_numbers:\n",
    "    data2 = {'commit_hash_origin': result[\"commit_hash_origin\"][id], 'commit_hash_destiny': result[\"commit_hash_destiny\"][id], \n",
    "             'project_id': result[\"project_id\"][id], 'merge_commit_id': result[\"merge_commit_id\"][id]}\n",
    "    #print(data2)\n",
    "    mew_line = pd.Series(data2, name=len(df))\n",
    "    df = df.append(new_line)"
   ]
  },
  {
   "cell_type": "code",
   "execution_count": null,
   "id": "e6822c68",
   "metadata": {},
   "outputs": [],
   "source": []
  },
  {
   "cell_type": "code",
   "execution_count": null,
   "id": "edb8bf86",
   "metadata": {},
   "outputs": [],
   "source": [
    "df.to_csv(\"manual_test_pairs_evol_commits.csv\")"
   ]
  },
  {
   "cell_type": "code",
   "execution_count": null,
   "id": "3f960981",
   "metadata": {},
   "outputs": [],
   "source": []
  },
  {
   "cell_type": "code",
   "execution_count": null,
   "id": "0098f06c",
   "metadata": {},
   "outputs": [],
   "source": []
  },
  {
   "cell_type": "code",
   "execution_count": null,
   "id": "98bbe67f",
   "metadata": {},
   "outputs": [],
   "source": []
  },
  {
   "cell_type": "code",
   "execution_count": null,
   "id": "5d98f0a7",
   "metadata": {},
   "outputs": [],
   "source": []
  },
  {
   "cell_type": "code",
   "execution_count": null,
   "id": "cb1c8c42",
   "metadata": {},
   "outputs": [],
   "source": []
  }
 ],
 "metadata": {
  "kernelspec": {
   "display_name": "Python 3 (ipykernel)",
   "language": "python",
   "name": "python3"
  },
  "language_info": {
   "codemirror_mode": {
    "name": "ipython",
    "version": 3
   },
   "file_extension": ".py",
   "mimetype": "text/x-python",
   "name": "python",
   "nbconvert_exporter": "python",
   "pygments_lexer": "ipython3",
   "version": "3.11.3"
  }
 },
 "nbformat": 4,
 "nbformat_minor": 5
}
