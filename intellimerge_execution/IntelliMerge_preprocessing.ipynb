{
 "cells": [
  {
   "cell_type": "code",
   "execution_count": 1,
   "id": "3e27f85a",
   "metadata": {},
   "outputs": [],
   "source": [
    "import pandas as pd"
   ]
  },
  {
   "cell_type": "markdown",
   "id": "440dc7af",
   "metadata": {},
   "source": [
    "#### Function intellimerge_preprocessing(path)\n",
    "It reads the resulting java files from merge using IntelliMerge and creates a dataframe of conflicts detected by IntelliMerge. It also counts conflicts occurrence in p1 and p2.\n",
    "\n",
    "The param **path** is the path of IntelliMerge processing results, using two backslashes on it.\n",
    "Ex: \"C:\\\\results\\\\repository01\"\n",
    "\n",
    "The function returns a dataset composed of the results of IntelliMerge execution (name of file with conflict, conflicting region lines, id of commit hash analyzed."
   ]
  },
  {
   "cell_type": "code",
   "execution_count": null,
   "id": "fc814a44",
   "metadata": {},
   "outputs": [],
   "source": [
    "def intellimerge_preprocessing(path): \n",
    "    import os\n",
    "    import glob\n",
    "    import pandas as pd\n",
    "\n",
    "    file_refat = 0\n",
    "    cont = 1\n",
    "    l_ini_p1 = 0\n",
    "    l_fim_p1 = 0\n",
    "    df = pd.DataFrame(columns = ['file', 'startline_p1', 'endline_p1', 'startline_p2', 'endline_p2'])\n",
    "    df2 = pd.DataFrame(columns = ['file'])\n",
    "    for root, subFolder, files in os.walk(path):\n",
    "        for item in files:\n",
    "            if item.endswith(\".java\"):\n",
    "                arquivo = os.path.join(root, item)\n",
    "                f = open(arquivo, 'r')\n",
    "                for linha in f:\n",
    "                    ## l_num: number of line in file (index value)\n",
    "                    ## l: line in file\n",
    "                    for l_num, l in enumerate(f, 2): # percorrer linhas e enumera-las a partir de 2\n",
    "                        if '<<<<<<< ours' in l: # checks if word \"ours\" is in the line processed\n",
    "                            l_ini_p1 = l_num + 1    \n",
    "                        if '======='in l: # \n",
    "                            l_fim_p1 = l_num - 1\n",
    "                            l_ini_p2 = l_num + 1\n",
    "                        if '>>>>>>> theirs' in l: # checks if word \"theirs\" is in the line processed\n",
    "                            l_fim_p2 = l_num - 1\n",
    "                            if l_ini_p1 > l_fim_p1:\n",
    "                                l_ini_p1 = l_ini_p1 - 1\n",
    "                            filename = os.path.join(root, item)     \n",
    "                            directory = filename.split('\\\\')\n",
    "                            #print(directory[3])\n",
    "                            df=df.append({'file' : os.path.join(root, item), 'startline_p1' : l_ini_p1, 'endline_p1' : l_fim_p1, 'startline_p2' : l_ini_p2, 'endline_p2' : l_fim_p2, 'merge_id': directory[7]} , ignore_index=True)\n",
    "                            #df = df.assign(merge_id = directory[3])\n",
    "                            cont = cont + 1\n",
    "                f.close()\n",
    "            #print(item)\n",
    "            if item.endswith(\".csv\") :\n",
    "                arquivo = os.path.join(root, item)\n",
    "                f = open(arquivo, 'r')\n",
    "                arquivo = os.path.join(root, item)\n",
    "                f = open(arquivo, 'r')\n",
    "                #print(item)\n",
    "                file_refat = file_refat +1 # numer of files with refactorings\n",
    "                df2=df2.append({'file' : os.path.join(root, item)} , ignore_index=True)\n",
    "                #print(os.path.join(root, item))\n",
    "    print(\"Number of refactorings in files: \", file_refat)\n",
    "    print(\"Finished...\")\n",
    "    return df"
   ]
  }
 ],
 "metadata": {
  "kernelspec": {
   "display_name": "Python 3 (ipykernel)",
   "language": "python",
   "name": "python3"
  },
  "language_info": {
   "codemirror_mode": {
    "name": "ipython",
    "version": 3
   },
   "file_extension": ".py",
   "mimetype": "text/x-python",
   "name": "python",
   "nbconvert_exporter": "python",
   "pygments_lexer": "ipython3",
   "version": "3.11.3"
  }
 },
 "nbformat": 4,
 "nbformat_minor": 5
}
